{
 "cells": [
  {
   "cell_type": "markdown",
   "metadata": {},
   "source": [
    "Real-World Use Case: Movie Review Sentiment Analysis:\n",
    "\n",
    "    We'll simulate a scenario where our model predicts the sentiment of movie reviews. This approach is commonly used in the movie industry for analyzing audience feedback. Our final model will be able to infer whether a given movie review is positive or negative, helping movie studios gauge the reception of their films in real-time.\n",
    "\n",
    "    1.Understanding Neural Networks through Movie Reviews\n",
    "        We will develop a neural network to analyze movie reviews and predict if the sentiment is positive or negative. This model can be used by film studios or streaming platforms to automate sentiment analysis."
   ]
  },
  {
   "cell_type": "markdown",
   "metadata": {},
   "source": [
    "Step 2: Implementing Sentiment Analysis Using PyTorch"
   ]
  },
  {
   "cell_type": "code",
   "execution_count": 1,
   "metadata": {},
   "outputs": [
    {
     "ename": "SyntaxError",
     "evalue": "invalid syntax (1021636486.py, line 5)",
     "output_type": "error",
     "traceback": [
      "\u001b[0;36m  Cell \u001b[0;32mIn[1], line 5\u001b[0;36m\u001b[0m\n\u001b[0;31m    reviews = [\"I loved this movie!\", \"It was terrible.\", \"Absolutely fantastic!\", \"Not worth watching.\"] labels = [1, 0, 1, 0] # 1 = positive, 0 = negative\u001b[0m\n\u001b[0m                                                                                                          ^\u001b[0m\n\u001b[0;31mSyntaxError\u001b[0m\u001b[0;31m:\u001b[0m invalid syntax\n"
     ]
    }
   ],
   "source": [
    "import torch\n",
    "import torch.nn as nn\n",
    "import torch.optim as optim\n",
    "# Sample movie review data (simplified example)\n",
    "reviews = [\"I loved this movie!\", \"It was terrible.\", \"Absolutely fantastic!\", \"Not worth watching.\"] \n",
    "labels = [1, 0, 1, 0] # 1 = positive, 0 = negative\n",
    "# Convert reviews into numerical data (simple encoding)\n",
    "vocab = {word: i for i, word in enumerate(set(\" \".join(reviews).split()))}\n",
    "encoded_reviews = [[vocab[word] for word in review.split()] for review in reviews]\n"
   ]
  }
 ],
 "metadata": {
  "kernelspec": {
   "display_name": "Training",
   "language": "python",
   "name": "python3"
  },
  "language_info": {
   "codemirror_mode": {
    "name": "ipython",
    "version": 3
   },
   "file_extension": ".py",
   "mimetype": "text/x-python",
   "name": "python",
   "nbconvert_exporter": "python",
   "pygments_lexer": "ipython3",
   "version": "3.12.3"
  }
 },
 "nbformat": 4,
 "nbformat_minor": 2
}
